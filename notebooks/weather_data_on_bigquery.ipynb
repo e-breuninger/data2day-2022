{
 "cells": [
  {
   "cell_type": "markdown",
   "id": "8094b966",
   "metadata": {},
   "source": [
    "# Global Historical Climate Network data in BigQuery\n",
    "\n",
    "Historical daily weather data from the Global Historical Climate Network (GHCN) is available in BigQuery. Data comes from 80,000 stations in 180 countries. It has been observed that weather can impact up to 3.4% of the GDP. Find more at [https://cloud.google.com/blog/products/gcp/global-historical-daily-weather-data-now-available-in-bigquery](https://cloud.google.com/blog/products/gcp/global-historical-daily-weather-data-now-available-in-bigquery)."
   ]
  },
  {
   "cell_type": "code",
   "execution_count": 1,
   "id": "1398a33c",
   "metadata": {},
   "outputs": [],
   "source": [
    "import os\n",
    "import sys\n",
    "import gmplot\n",
    "import pandas as pd\n",
    "from dynaconf import settings\n",
    "import datalab.bigquery as bq"
   ]
  },
  {
   "cell_type": "code",
   "execution_count": 2,
   "id": "85318818",
   "metadata": {},
   "outputs": [],
   "source": [
    "# add the path of the helpers package so we can import its functions e.g. import utils\n",
    "path_helpers_package = os.path.join(settings.APP_PATH, \"data2day_2022/helpers\")\n",
    "sys.path.append(path_helpers_package)"
   ]
  },
  {
   "cell_type": "code",
   "execution_count": 3,
   "id": "4df78569",
   "metadata": {},
   "outputs": [],
   "source": [
    "import utils"
   ]
  },
  {
   "cell_type": "markdown",
   "id": "adadb133",
   "metadata": {},
   "source": [
    "## Data Analysis\n",
    "\n",
    "The first step is to identify the clostest GHCN station from Stuttgart.\n",
    "\n",
    "After a quick tour on Google Map, we find out our latitude is 48.7751016 degrees latitude and your longitude is 9.1799984 degrees longitude."
   ]
  },
  {
   "cell_type": "code",
   "execution_count": 4,
   "id": "336bf799",
   "metadata": {},
   "outputs": [],
   "source": [
    "# retrieve the string sql query\n",
    "sql = utils.read_query(\"../data2day_2022/sql/find_stations_close_to.sql\")"
   ]
  },
  {
   "cell_type": "code",
   "execution_count": 5,
   "id": "76ad4b5d",
   "metadata": {},
   "outputs": [],
   "source": [
    "# parametrise the query and fetch the public BigQuery dataset\n",
    "stations = bq.Query(\n",
    "    sql, lat=float(settings.LATITUDE), lon=float(settings.LONGITUDE)\n",
    ").to_dataframe()"
   ]
  },
  {
   "cell_type": "code",
   "execution_count": 6,
   "id": "02ff7cf9",
   "metadata": {},
   "outputs": [
    {
     "data": {
      "text/html": [
       "<div>\n",
       "<style scoped>\n",
       "    .dataframe tbody tr th:only-of-type {\n",
       "        vertical-align: middle;\n",
       "    }\n",
       "\n",
       "    .dataframe tbody tr th {\n",
       "        vertical-align: top;\n",
       "    }\n",
       "\n",
       "    .dataframe thead th {\n",
       "        text-align: right;\n",
       "    }\n",
       "</style>\n",
       "<table border=\"1\" class=\"dataframe\">\n",
       "  <thead>\n",
       "    <tr style=\"text-align: right;\">\n",
       "      <th></th>\n",
       "      <th>name</th>\n",
       "      <th>id</th>\n",
       "      <th>state</th>\n",
       "      <th>latitude</th>\n",
       "      <th>longitude</th>\n",
       "      <th>dist_kms</th>\n",
       "    </tr>\n",
       "  </thead>\n",
       "  <tbody>\n",
       "    <tr>\n",
       "      <th>0</th>\n",
       "      <td>STUTTGART-STADT</td>\n",
       "      <td>GM000002716</td>\n",
       "      <td>None</td>\n",
       "      <td>48.7703</td>\n",
       "      <td>9.1825</td>\n",
       "      <td>0.742676</td>\n",
       "    </tr>\n",
       "    <tr>\n",
       "      <th>1</th>\n",
       "      <td>STUTTGART (NECKARTAL)</td>\n",
       "      <td>GME00129118</td>\n",
       "      <td>None</td>\n",
       "      <td>48.7906</td>\n",
       "      <td>9.2178</td>\n",
       "      <td>4.291568</td>\n",
       "    </tr>\n",
       "    <tr>\n",
       "      <th>2</th>\n",
       "      <td>STUTTGART-SCHNARRENBERG</td>\n",
       "      <td>GME00115771</td>\n",
       "      <td>None</td>\n",
       "      <td>48.8292</td>\n",
       "      <td>9.2008</td>\n",
       "      <td>8.163890</td>\n",
       "    </tr>\n",
       "    <tr>\n",
       "      <th>3</th>\n",
       "      <td>STUTTGART-HOHENHEIM</td>\n",
       "      <td>GME00129143</td>\n",
       "      <td>None</td>\n",
       "      <td>48.7144</td>\n",
       "      <td>9.2103</td>\n",
       "      <td>9.348723</td>\n",
       "    </tr>\n",
       "    <tr>\n",
       "      <th>4</th>\n",
       "      <td>STUTTGART/ECHTERDINGEN</td>\n",
       "      <td>GME00111512</td>\n",
       "      <td>None</td>\n",
       "      <td>48.6892</td>\n",
       "      <td>9.2253</td>\n",
       "      <td>13.305016</td>\n",
       "    </tr>\n",
       "  </tbody>\n",
       "</table>\n",
       "</div>"
      ],
      "text/plain": [
       "                      name           id state  latitude  longitude   dist_kms\n",
       "0          STUTTGART-STADT  GM000002716  None   48.7703     9.1825   0.742676\n",
       "1    STUTTGART (NECKARTAL)  GME00129118  None   48.7906     9.2178   4.291568\n",
       "2  STUTTGART-SCHNARRENBERG  GME00115771  None   48.8292     9.2008   8.163890\n",
       "3      STUTTGART-HOHENHEIM  GME00129143  None   48.7144     9.2103   9.348723\n",
       "4   STUTTGART/ECHTERDINGEN  GME00111512  None   48.6892     9.2253  13.305016"
      ]
     },
     "execution_count": 6,
     "metadata": {},
     "output_type": "execute_result"
    }
   ],
   "source": [
    "stations.head()"
   ]
  },
  {
   "cell_type": "code",
   "execution_count": 7,
   "id": "1f9a9852",
   "metadata": {},
   "outputs": [],
   "source": [
    "# select stations within a radius of 30km around the selected Latitude and Longitude points\n",
    "stations_stuttgart = stations[stations.dist_kms <= 30]"
   ]
  },
  {
   "cell_type": "markdown",
   "id": "40c6f388",
   "metadata": {},
   "source": [
    "## Visualisation on Google Maps"
   ]
  },
  {
   "cell_type": "code",
   "execution_count": 8,
   "id": "55eef36d",
   "metadata": {},
   "outputs": [],
   "source": [
    "# you don't necessarily need an API key, but it opens more options\n",
    "google_map_api_key = settings.GOOGLE_MAP_API_KEY\n",
    "\n",
    "# define the center of the map and zoom\n",
    "google_map = gmplot.GoogleMapPlotter(48.7703, 9.1825, 10, apikey=google_map_api_key)\n",
    "\n",
    "# prepare the data\n",
    "locations = zip(\n",
    "    *[\n",
    "        (lat, long)\n",
    "        for lat, long in zip(stations_stuttgart.latitude, stations_stuttgart.longitude)\n",
    "    ]\n",
    ")\n",
    "\n",
    "# plot the dots on the map\n",
    "google_map.scatter(*locations, color=\"red\")"
   ]
  },
  {
   "cell_type": "code",
   "execution_count": 9,
   "id": "b3ed47ad",
   "metadata": {},
   "outputs": [],
   "source": [
    "# plot the results on a html map\n",
    "# google_map.draw(\"../results/map_weather_stations_stuttgart.html\")"
   ]
  },
  {
   "cell_type": "markdown",
   "id": "8d404a60",
   "metadata": {},
   "source": [
    "## Prepare the data\n",
    "\n",
    "Filtering out the elements that are not meaningful for our analyses.\n",
    "\n",
    "Here, we pull data from the `GM000002716` station for the dates of interest (daily rainfall precipitation for 2018). \n",
    "\n",
    "To get the rainfall amount (\"precipitation\" or PRCP) in millimeters, you’d write:"
   ]
  },
  {
   "cell_type": "code",
   "execution_count": 10,
   "id": "5ab296d8",
   "metadata": {},
   "outputs": [],
   "source": [
    "sql = utils.read_query(\"../data2day_2022/sql/extract_precipitation_2018.sql\")"
   ]
  },
  {
   "cell_type": "code",
   "execution_count": 11,
   "id": "3813d6fc",
   "metadata": {},
   "outputs": [
    {
     "data": {
      "text/plain": [
       "\"SELECT STRING(wx.date) AS date ,wx.value/10.0 AS prcp FROM [bigquery-public-data:ghcn_d.ghcnd_2018] AS wx WHERE id = $station_id AND qflag IS NULL AND element = 'PRCP' ORDER BY wx.date\""
      ]
     },
     "execution_count": 11,
     "metadata": {},
     "output_type": "execute_result"
    }
   ],
   "source": [
    "sql"
   ]
  },
  {
   "cell_type": "code",
   "execution_count": 12,
   "id": "39149d82",
   "metadata": {},
   "outputs": [],
   "source": [
    "# GM000002716 is not in the table. GME00115771 is the first one for which it is the case.\n",
    "weather_data_stuttgart_2018 = bq.Query(sql, station_id=\"GME00115771\").to_dataframe()"
   ]
  },
  {
   "cell_type": "code",
   "execution_count": 13,
   "id": "3a11709b",
   "metadata": {},
   "outputs": [
    {
     "data": {
      "text/html": [
       "<div>\n",
       "<style scoped>\n",
       "    .dataframe tbody tr th:only-of-type {\n",
       "        vertical-align: middle;\n",
       "    }\n",
       "\n",
       "    .dataframe tbody tr th {\n",
       "        vertical-align: top;\n",
       "    }\n",
       "\n",
       "    .dataframe thead th {\n",
       "        text-align: right;\n",
       "    }\n",
       "</style>\n",
       "<table border=\"1\" class=\"dataframe\">\n",
       "  <thead>\n",
       "    <tr style=\"text-align: right;\">\n",
       "      <th></th>\n",
       "      <th>date</th>\n",
       "      <th>prcp</th>\n",
       "    </tr>\n",
       "  </thead>\n",
       "  <tbody>\n",
       "    <tr>\n",
       "      <th>0</th>\n",
       "      <td>2018-01-01</td>\n",
       "      <td>3.5</td>\n",
       "    </tr>\n",
       "    <tr>\n",
       "      <th>1</th>\n",
       "      <td>2018-01-02</td>\n",
       "      <td>0.6</td>\n",
       "    </tr>\n",
       "    <tr>\n",
       "      <th>2</th>\n",
       "      <td>2018-01-03</td>\n",
       "      <td>7.2</td>\n",
       "    </tr>\n",
       "    <tr>\n",
       "      <th>3</th>\n",
       "      <td>2018-01-04</td>\n",
       "      <td>12.4</td>\n",
       "    </tr>\n",
       "    <tr>\n",
       "      <th>4</th>\n",
       "      <td>2018-01-05</td>\n",
       "      <td>4.8</td>\n",
       "    </tr>\n",
       "  </tbody>\n",
       "</table>\n",
       "</div>"
      ],
      "text/plain": [
       "         date  prcp\n",
       "0  2018-01-01   3.5\n",
       "1  2018-01-02   0.6\n",
       "2  2018-01-03   7.2\n",
       "3  2018-01-04  12.4\n",
       "4  2018-01-05   4.8"
      ]
     },
     "execution_count": 13,
     "metadata": {},
     "output_type": "execute_result"
    }
   ],
   "source": [
    "weather_data_stuttgart_2018.head()"
   ]
  },
  {
   "cell_type": "code",
   "execution_count": 14,
   "id": "fa4ee6e8",
   "metadata": {},
   "outputs": [],
   "source": [
    "# save the result into a csv file\n",
    "# weather_data_stuttgart_2018.to_csv(\"../results/weather_prcp.csv\", encoding=\"UTF-8\", index=False)"
   ]
  }
 ],
 "metadata": {
  "kernelspec": {
   "display_name": "Python 3 (ipykernel)",
   "language": "python",
   "name": "python3"
  },
  "language_info": {
   "codemirror_mode": {
    "name": "ipython",
    "version": 3
   },
   "file_extension": ".py",
   "mimetype": "text/x-python",
   "name": "python",
   "nbconvert_exporter": "python",
   "pygments_lexer": "ipython3",
   "version": "3.10.4"
  }
 },
 "nbformat": 4,
 "nbformat_minor": 5
}
