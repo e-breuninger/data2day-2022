{
 "cells": [
  {
   "cell_type": "markdown",
   "id": "e3da4d12",
   "metadata": {},
   "source": [
    "# Predicting the Offline Shop Customer Frequentation"
   ]
  },
  {
   "cell_type": "code",
   "execution_count": null,
   "id": "1ce153f5",
   "metadata": {},
   "outputs": [],
   "source": [
    "import os\n",
    "import sys\n",
    "import numpy as np\n",
    "import pandas as pd\n",
    "from dynaconf import settings\n",
    "import matplotlib.pyplot as plt\n",
    "from statsmodels.tsa.arima.model import ARIMA\n",
    "from sklearn.metrics import mean_absolute_percentage_error\n",
    "from statsmodels.tsa.holtwinters import ExponentialSmoothing"
   ]
  },
  {
   "cell_type": "code",
   "execution_count": null,
   "id": "3d49fd8a",
   "metadata": {},
   "outputs": [],
   "source": [
    "# add the path of the results folder so we can access it without specifying the relative path\n",
    "path_results_folder = os.path.join(settings.APP_PATH, \"data2day_2022/results\")\n",
    "\n",
    "sys.path.append(path_results_folder)"
   ]
  },
  {
   "cell_type": "markdown",
   "id": "17458fe5",
   "metadata": {},
   "source": [
    "## Getting the data\n",
    "\n",
    "The data is stored under the `dataset/` folder. You can edit the `customer_frequentation.csv` respecting the pre-existing headers, or defining a new one but editing the code below."
   ]
  },
  {
   "cell_type": "code",
   "execution_count": null,
   "id": "0636cedb",
   "metadata": {},
   "outputs": [],
   "source": [
    "df_freq = pd.read_csv(\"../datasets/customer_frequentation.csv\", encoding=\"UTF-8\")"
   ]
  },
  {
   "cell_type": "code",
   "execution_count": null,
   "id": "cbb264d0",
   "metadata": {},
   "outputs": [],
   "source": [
    "df_freq.head()"
   ]
  },
  {
   "cell_type": "markdown",
   "id": "2e5a1ecf",
   "metadata": {},
   "source": [
    "## Data Analyses"
   ]
  },
  {
   "cell_type": "code",
   "execution_count": null,
   "id": "0562a291",
   "metadata": {},
   "outputs": [],
   "source": [
    "fig = plt.figure(figsize=(20, 10))\n",
    "plt.plot(df_freq.quantity)\n",
    "plt.title(\"Offline shop customer frequentation per days\")\n",
    "plt.xlabel(\"days\")\n",
    "plt.ylabel(\"customer quantity\")\n",
    "plt.grid(True)"
   ]
  },
  {
   "cell_type": "code",
   "execution_count": null,
   "id": "62e6e147",
   "metadata": {},
   "outputs": [],
   "source": [
    "# to save the graph\n",
    "# plt.savefig(\"../results/forecast_customer_frequentation_v1_data_analyse.png\", dpi=200)"
   ]
  },
  {
   "cell_type": "markdown",
   "id": "b2f57e52",
   "metadata": {},
   "source": [
    "## Testing 4 different forecasting models\n",
    "\n",
    "1. Exponential Smothing\n",
    "2. Hold-Winters with additive seasonality\n",
    "3. Hold-Winters with multiplicative seasonality\n",
    "4. Arima\n",
    "\n",
    "**Note:** all of those models are univariete, i.e. do not take the weather data into consideration. It only uses the previous quantity values."
   ]
  },
  {
   "cell_type": "code",
   "execution_count": null,
   "id": "d1be5a70",
   "metadata": {},
   "outputs": [],
   "source": [
    "quantity = df_freq.quantity"
   ]
  },
  {
   "cell_type": "code",
   "execution_count": null,
   "id": "8705e4d2",
   "metadata": {},
   "outputs": [],
   "source": [
    "model1 = ExponentialSmoothing(quantity, seasonal_periods=7).fit()\n",
    "model2 = ExponentialSmoothing(quantity, seasonal=\"add\", seasonal_periods=7).fit()\n",
    "model3 = ExponentialSmoothing(quantity, seasonal=\"mul\", seasonal_periods=7).fit()\n",
    "model4 = ARIMA(quantity).fit()"
   ]
  },
  {
   "cell_type": "markdown",
   "id": "71c5d24e",
   "metadata": {},
   "source": [
    "## Select the best performing model\n",
    "\n",
    "Looking at the `MAPE`` value. In our case, this is the Holt-Winter's muliplicative method."
   ]
  },
  {
   "cell_type": "code",
   "execution_count": null,
   "id": "e84b0257",
   "metadata": {},
   "outputs": [],
   "source": [
    "print(\n",
    "    \"MAPE model 1:\",\n",
    "    mean_absolute_percentage_error(quantity, model1.predict(start=0, end=364)),\n",
    ")\n",
    "print(\n",
    "    \"MAPE model 2:\",\n",
    "    mean_absolute_percentage_error(quantity, model2.predict(start=0, end=364)),\n",
    ")\n",
    "print(\n",
    "    \"MAPE model 3:\",\n",
    "    mean_absolute_percentage_error(quantity, model3.predict(start=0, end=364)),\n",
    ")\n",
    "print(\n",
    "    \"MAPE model 4:\",\n",
    "    mean_absolute_percentage_error(quantity, model4.predict(start=0, end=364)),\n",
    ")"
   ]
  },
  {
   "cell_type": "markdown",
   "id": "24ca25bf",
   "metadata": {},
   "source": [
    "## Forecasting the next values"
   ]
  },
  {
   "cell_type": "code",
   "execution_count": null,
   "id": "f0d419a2",
   "metadata": {},
   "outputs": [],
   "source": [
    "predictions = model3.predict(start=364, end=380)"
   ]
  },
  {
   "cell_type": "code",
   "execution_count": null,
   "id": "fa3f59fb",
   "metadata": {},
   "outputs": [],
   "source": [
    "fig = plt.figure(figsize=(20, 10))\n",
    "plt.plot(predictions, color=\"red\", linestyle=\"--\", label=\"predictions\")\n",
    "plt.plot(quantity, color=\"black\", label=\"observations\")\n",
    "plt.title(\"Offline shop customer frequentation per days - Observations vs. Forecast\")\n",
    "plt.legend()\n",
    "plt.xlabel(\"days\")\n",
    "plt.ylabel(\"customer quantity\")\n",
    "plt.grid()"
   ]
  }
 ],
 "metadata": {
  "kernelspec": {
   "display_name": "Python 3 (ipykernel)",
   "language": "python",
   "name": "python3"
  },
  "language_info": {
   "codemirror_mode": {
    "name": "ipython",
    "version": 3
   },
   "file_extension": ".py",
   "mimetype": "text/x-python",
   "name": "python",
   "nbconvert_exporter": "python",
   "pygments_lexer": "ipython3",
   "version": "3.10.4"
  }
 },
 "nbformat": 4,
 "nbformat_minor": 5
}
